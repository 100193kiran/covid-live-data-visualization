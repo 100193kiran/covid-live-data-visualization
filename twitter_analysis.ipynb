{
  "nbformat": 4,
  "nbformat_minor": 0,
  "metadata": {
    "colab": {
      "name": "twitter_analysis.ipynb",
      "provenance": [],
      "include_colab_link": true
    },
    "kernelspec": {
      "name": "python3",
      "display_name": "Python 3"
    }
  },
  "cells": [
    {
      "cell_type": "markdown",
      "metadata": {
        "id": "view-in-github",
        "colab_type": "text"
      },
      "source": [
        "<a href=\"https://colab.research.google.com/github/100193kiran/projects-developed/blob/projects-developed/twitter_analysis.ipynb\" target=\"_parent\"><img src=\"https://colab.research.google.com/assets/colab-badge.svg\" alt=\"Open In Colab\"/></a>"
      ]
    },
    {
      "cell_type": "code",
      "metadata": {
        "id": "QPYOMqyPu-02"
      },
      "source": [
        "import re \n",
        "import tweepy \n",
        "from tweepy import OAuthHandler \n",
        "from textblob import TextBlob"
      ],
      "execution_count": null,
      "outputs": []
    },
    {
      "cell_type": "code",
      "metadata": {
        "id": "o8fJQ9DRvb_7"
      },
      "source": [
        "class TwitterClient(object): \n",
        "    def __init__(self): \n",
        "        ''' \n",
        "        Class constructor or initialization method. \n",
        "        '''\n",
        "        # keys and tokens from the Twitter Dev Console \n",
        "        consumer_key = 'B7QnOAgtlJo5Pp8SHfQLEee3o'\n",
        "        consumer_secret = '7mNHllqNSF5xqenMCXCs8a2fxWBoISOSzK2dWzy0oW3uEfCdki'\n",
        "        access_token = '2149279066-UoaKsphdlVioq53gpocTD1dnhzWr0OTPth2i32J'\n",
        "        access_token_secret = 'yE2RUEl7bivzIPYqu6AFfoMaxvFr9UGge1e82DtPerHTr'\n",
        "        try:  \n",
        "            self.auth = OAuthHandler(consumer_key, consumer_secret) \n",
        "            self.auth.set_access_token(access_token, access_token_secret) \n",
        "            self.api = tweepy.API(self.auth) \n",
        "        except: \n",
        "            print(\"Error: Authentication Failed\") \n",
        "  \n",
        "    def clean_tweet(self, tweet): \n",
        "        return ' '.join(re.sub(\"(@[A-Za-z0-9]+)|([^0-9A-Za-z \\t])|(\\w+:\\/\\/\\S+)\", \" \", tweet).split()) \n",
        "  \n",
        "    def get_tweet_sentiment(self, tweet): \n",
        "        analysis = TextBlob(self.clean_tweet(tweet)) \n",
        "        if analysis.sentiment.polarity > 0: \n",
        "            return 'positive'\n",
        "        elif analysis.sentiment.polarity == 0: \n",
        "            return 'neutral'\n",
        "        else: \n",
        "            return 'negative'\n",
        "  \n",
        "    def get_tweets(self, query, count = 10): \n",
        "        ''' \n",
        "        Main function to fetch tweets and parse them. \n",
        "        '''\n",
        "        tweets = [] \n",
        "  \n",
        "        try: \n",
        "            fetched_tweets = self.api.search(q = query, count = count) \n",
        "            for tweet in fetched_tweets: \n",
        "                parsed_tweet = {} \n",
        "                parsed_tweet['text'] = tweet.text  \n",
        "                parsed_tweet['sentiment'] = self.get_tweet_sentiment(tweet.text) \n",
        "                if tweet.retweet_count > 0: \n",
        "                    if parsed_tweet not in tweets: \n",
        "                        tweets.append(parsed_tweet) \n",
        "                else: \n",
        "                    tweets.append(parsed_tweet) \n",
        "            return tweets \n",
        "  \n",
        "        except tweepy.TweepError as e: \n",
        "            print(\"Error : \" + str(e)) \n",
        " "
      ],
      "execution_count": null,
      "outputs": []
    },
    {
      "cell_type": "code",
      "metadata": {
        "id": "x6ZdeN0EdsM-"
      },
      "source": [
        "def main(): \n",
        "    api = TwitterClient() \n",
        "    query_h = input(\"Enter Your search Hashtags\")\n",
        "    tweets = api.get_tweets(query = query_h, count = 200) \n",
        "    ptweets = [tweet for tweet in tweets if tweet['sentiment'] == 'positive'] \n",
        "    print(\"Positive tweets percentage: {} %\".format(100*len(ptweets)/len(tweets)))  \n",
        "    ntweets = [tweet for tweet in tweets if tweet['sentiment'] == 'negative'] \n",
        "    print(\"Negative tweets percentage: {} %\".format(100*len(ntweets)/len(tweets))) \n",
        "    print(\"Neutral tweets percentage: {} % \\ \".format(100*(len(tweets) -(len( ntweets )+len( ptweets)))/len(tweets))) \n",
        "    print(\"\\n\\nPositive tweets:\") \n",
        "    for tweet in ptweets[:10]: \n",
        "        print(tweet['text']) \n",
        "    print(\"\\n\\nNegative tweets:\") \n",
        "    for tweet in ntweets[:10]: \n",
        "        print(tweet['text'])"
      ],
      "execution_count": null,
      "outputs": []
    },
    {
      "cell_type": "code",
      "metadata": {
        "id": "24WlBQOidxhn",
        "colab": {
          "base_uri": "https://localhost:8080/"
        },
        "outputId": "cc28e73c-a8b5-410a-dc9c-c2118c1d5de9"
      },
      "source": [
        "main()"
      ],
      "execution_count": null,
      "outputs": [
        {
          "output_type": "stream",
          "text": [
            "Enter Your search Hashtagstrump\n",
            "Positive tweets percentage: 34.24657534246575 %\n",
            "Negative tweets percentage: 12.32876712328767 %\n",
            "Neutral tweets percentage: 53.42465753424658 % \\ \n",
            "\n",
            "\n",
            "Positive tweets:\n",
            "RT @ReallyAmerican1: Many Trump supporters are saying that if Loeffler, Perdue &amp; the Georgia GOP can't deliver a victory for Trump, they sh…\n",
            "RT @gregkellyusa: So ⁦@GovChristie⁩ doesn’t think the Trump Legal Team is impressive? unlike Chris⁩ —-they were REAL prosecutors, Not FUNDR…\n",
            "RT @jonathanvswan: The publicly-stated position of President Trump's legal team is that the reason Trump lost Georgia is because Georgia's…\n",
            "@SarahB1863 @Sunray1999 @C_C_Krebs “..a legal team that has lost case after case in its efforts to overturn the res… https://t.co/tPSs8GajA1\n",
            "RT @joncoopertweets: 'Absolutely shameful': Adam Schiff condemns Trump's golf outing\n",
            "https://t.co/Ol3l16nZdj\n",
            "RT @realDonaldTrump: Data: Trump‘s Anti-Globalism, Pro-Police Message Wins Over Hispanics https://t.co/syiQ2cwuwU via @BreitbartNews Great,…\n",
            "RT @Scaramucci: The Sidney Powell situation is classic Trump. Coerce people into lying, and then fire them for following his instructions.…\n",
            "RT @murray_nyc: @realDonaldTrump “Sharing the letter ‘M’ was apparently enough to confuse the Trump campaign's legal team into using data f…\n",
            "RT @mmpadellan: Just for today...\n",
            "\n",
            "I am mildly satisfied knowing that trump can fully see the platform being built for Biden's inauguration…\n",
            "RT @Fahrenthold: Trump faces potentially significant legal problems when he leaves office, starting with two investigations in New York.\n",
            "ht…\n",
            "\n",
            "\n",
            "Negative tweets:\n",
            "RT @murray_nyc: @realDonaldTrump Oh! 🤦🏼‍♂️\n",
            "\n",
            "“The abrupt shake-up comes as Powell makes far-fetched and unsupported claims of voter fraud in…\n",
            "RT @carlbernstein: “The Trump presidency has been no nightmare. It has been daylight delinquency...corruption, and cruelty and deadly incom…\n",
            "RT @ananavarro: We’ve spent hundreds of millions of tax-payer dollars on Trump properties, and providing SS Protection to his spawn as they…\n",
            "RT @donwinslow: In the final analysis, there has to be accountability for Donald Trump and those that aided him in his crimes.\n",
            "\n",
            "The failure…\n",
            "@2reyallen Trust me if you say Trump did bad, we can discuss but if you say China did not lie and WHO did not misle… https://t.co/Nd0epn6S3j\n",
            "RT @nowthisnews: ‘It’s bad for Donald Trump, it’s bad for the Republican Party, and it’s bad for the country’ — Republican Gov. Larry Hogan…\n",
            "Why is everything a shitty trump joke bro. Like I don't like trump but 90% of trump jokes are overused stale and boring like stfu\n",
            "RT @harrylitman: Explanation of Sydney Powell's sacking by an anonymous Trump campaign official:  “She was too crazy even for the president…\n",
            "RT @waltshaub: One lesson Trump enablers never learn until it’s too late: he turns on them all.\n"
          ],
          "name": "stdout"
        }
      ]
    }
  ]
}