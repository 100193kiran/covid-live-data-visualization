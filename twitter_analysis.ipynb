{
  "nbformat": 4,
  "nbformat_minor": 0,
  "metadata": {
    "colab": {
      "name": "Copy of twitter_analysis.ipynb",
      "provenance": []
    },
    "kernelspec": {
      "name": "python3",
      "display_name": "Python 3"
    }
  },
  "cells": [
    {
      "cell_type": "code",
      "metadata": {
        "id": "QPYOMqyPu-02"
      },
      "source": [
        "import re \n",
        "import tweepy \n",
        "from tweepy import OAuthHandler \n",
        "from textblob import TextBlob"
      ],
      "execution_count": 1,
      "outputs": []
    },
    {
      "cell_type": "code",
      "metadata": {
        "id": "o8fJQ9DRvb_7"
      },
      "source": [
        "class TwitterClient(object): \n",
        "    def __init__(self): \n",
        "        ''' \n",
        "        Class constructor or initialization method. \n",
        "        '''\n",
        "        # keys and tokens from the Twitter Dev Console \n",
        "        consumer_key = 'B7QnOAgtlJo5Pp8SHfQLEee3o'\n",
        "        consumer_secret = '7mNHllqNSF5xqenMCXCs8a2fxWBoISOSzK2dWzy0oW3uEfCdki'\n",
        "        access_token = '2149279066-UoaKsphdlVioq53gpocTD1dnhzWr0OTPth2i32J'\n",
        "        access_token_secret = 'yE2RUEl7bivzIPYqu6AFfoMaxvFr9UGge1e82DtPerHTr'\n",
        "        try:  \n",
        "            self.auth = OAuthHandler(consumer_key, consumer_secret) \n",
        "            self.auth.set_access_token(access_token, access_token_secret) \n",
        "            self.api = tweepy.API(self.auth) \n",
        "        except: \n",
        "            print(\"Error: Authentication Failed\") \n",
        "  \n",
        "    def clean_tweet(self, tweet): \n",
        "        return ' '.join(re.sub(\"(@[A-Za-z0-9]+)|([^0-9A-Za-z \\t])|(\\w+:\\/\\/\\S+)\", \" \", tweet).split()) \n",
        "  \n",
        "    def get_tweet_sentiment(self, tweet): \n",
        "        analysis = TextBlob(self.clean_tweet(tweet)) \n",
        "        if analysis.sentiment.polarity > 0: \n",
        "            return 'positive'\n",
        "        elif analysis.sentiment.polarity == 0: \n",
        "            return 'neutral'\n",
        "        else: \n",
        "            return 'negative'\n",
        "  \n",
        "    def get_tweets(self, query, count = 10): \n",
        "        ''' \n",
        "        Main function to fetch tweets and parse them. \n",
        "        '''\n",
        "        tweets = [] \n",
        "  \n",
        "        try: \n",
        "            fetched_tweets = self.api.search(q = query, count = count) \n",
        "            for tweet in fetched_tweets: \n",
        "                parsed_tweet = {} \n",
        "                parsed_tweet['text'] = tweet.text  \n",
        "                parsed_tweet['sentiment'] = self.get_tweet_sentiment(tweet.text) \n",
        "                if tweet.retweet_count > 0: \n",
        "                    if parsed_tweet not in tweets: \n",
        "                        tweets.append(parsed_tweet) \n",
        "                else: \n",
        "                    tweets.append(parsed_tweet) \n",
        "            return tweets \n",
        "  \n",
        "        except tweepy.TweepError as e: \n",
        "            print(\"Error : \" + str(e)) \n",
        " "
      ],
      "execution_count": 2,
      "outputs": []
    },
    {
      "cell_type": "code",
      "metadata": {
        "id": "x6ZdeN0EdsM-"
      },
      "source": [
        "def main(): \n",
        "    api = TwitterClient() \n",
        "    query_h = input(\"Enter Your search Hashtags\")\n",
        "    tweets = api.get_tweets(query = query_h, count = 200) \n",
        "    ptweets = [tweet for tweet in tweets if tweet['sentiment'] == 'positive'] \n",
        "    print(\"Positive tweets percentage: {} %\".format(100*len(ptweets)/len(tweets)))  \n",
        "    ntweets = [tweet for tweet in tweets if tweet['sentiment'] == 'negative'] \n",
        "    print(\"Negative tweets percentage: {} %\".format(100*len(ntweets)/len(tweets))) \n",
        "    print(\"Neutral tweets percentage: {} % \\ \".format(100*(len(tweets) -(len( ntweets )+len( ptweets)))/len(tweets))) \n",
        "    print(\"\\n\\nPositive tweets:\") \n",
        "    for tweet in ptweets[:10]: \n",
        "        print(tweet['text']) \n",
        "    print(\"\\n\\nNegative tweets:\") \n",
        "    for tweet in ntweets[:10]: \n",
        "        print(tweet['text'])"
      ],
      "execution_count": 3,
      "outputs": []
    },
    {
      "cell_type": "code",
      "metadata": {
        "id": "24WlBQOidxhn"
      },
      "source": [
        "main()"
      ],
      "execution_count": null,
      "outputs": []
    }
  ]
}